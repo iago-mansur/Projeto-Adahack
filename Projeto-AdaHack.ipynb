{
 "cells": [
  {
   "attachments": {},
   "cell_type": "markdown",
   "metadata": {},
   "source": [
    "### Importação das bibliotecas"
   ]
  },
  {
   "cell_type": "code",
   "execution_count": 1,
   "metadata": {},
   "outputs": [],
   "source": [
    "import pandas as pd\n",
    "import matplotlib.pyplot as plt\n",
    "import requests\n",
    "import csv\n",
    "from io import StringIO\n",
    "import ftfy"
   ]
  },
  {
   "attachments": {},
   "cell_type": "markdown",
   "metadata": {},
   "source": [
    "### Importação dos dados"
   ]
  },
  {
   "cell_type": "code",
   "execution_count": 2,
   "metadata": {},
   "outputs": [],
   "source": [
    "url = requests.get('https://raw.githubusercontent.com/Ada-Empregabilidade/adahack-2024-dados/main/base_dados/base_de_dados.csv').content.decode('utf-8')\n",
    "linhas = url.split('\\n')\n",
    "lista_linhas = [ftfy.fix_text(linha) for linha in linhas]\n",
    "data = StringIO('\\n'.join(lista_linhas))\n",
    "df = pd.read_csv(data)"
   ]
  },
  {
   "attachments": {},
   "cell_type": "markdown",
   "metadata": {},
   "source": [
    "### Checagem dos dados importados"
   ]
  },
  {
   "cell_type": "code",
   "execution_count": 3,
   "metadata": {},
   "outputs": [
    {
     "data": {
      "text/html": [
       "<div>\n",
       "<style scoped>\n",
       "    .dataframe tbody tr th:only-of-type {\n",
       "        vertical-align: middle;\n",
       "    }\n",
       "\n",
       "    .dataframe tbody tr th {\n",
       "        vertical-align: top;\n",
       "    }\n",
       "\n",
       "    .dataframe thead th {\n",
       "        text-align: right;\n",
       "    }\n",
       "</style>\n",
       "<table border=\"1\" class=\"dataframe\">\n",
       "  <thead>\n",
       "    <tr style=\"text-align: right;\">\n",
       "      <th></th>\n",
       "      <th>id</th>\n",
       "      <th>id.1</th>\n",
       "      <th>Nome</th>\n",
       "      <th>Genero</th>\n",
       "      <th>Idade</th>\n",
       "      <th>Raça</th>\n",
       "      <th>Endereço</th>\n",
       "      <th>Formação</th>\n",
       "      <th>Estado</th>\n",
       "      <th>Tempo de casa</th>\n",
       "      <th>Departamento</th>\n",
       "      <th>Senioridade</th>\n",
       "    </tr>\n",
       "  </thead>\n",
       "  <tbody>\n",
       "    <tr>\n",
       "      <th>0</th>\n",
       "      <td>1</td>\n",
       "      <td>1</td>\n",
       "      <td>Eleonora Arilda Penedo Gomes de Padilha</td>\n",
       "      <td>Fem</td>\n",
       "      <td>34.0</td>\n",
       "      <td>pardo</td>\n",
       "      <td>9155 Harold Oval\\nSellersside, FL 21337</td>\n",
       "      <td>Ensino Médio</td>\n",
       "      <td>Santa Catarina</td>\n",
       "      <td>12.0</td>\n",
       "      <td>Compras</td>\n",
       "      <td>Analista Pleno</td>\n",
       "    </tr>\n",
       "    <tr>\n",
       "      <th>1</th>\n",
       "      <td>2</td>\n",
       "      <td>2</td>\n",
       "      <td>Elisângela Gabrielle de Osório</td>\n",
       "      <td>Fem</td>\n",
       "      <td>26.0</td>\n",
       "      <td>pardo</td>\n",
       "      <td>941 Martin Manor\\nLake Isaiahtown, FM 43797</td>\n",
       "      <td>Ensino Médio</td>\n",
       "      <td>Pará</td>\n",
       "      <td>6.0</td>\n",
       "      <td>Contabilidade</td>\n",
       "      <td>Analista Júnior</td>\n",
       "    </tr>\n",
       "    <tr>\n",
       "      <th>2</th>\n",
       "      <td>3</td>\n",
       "      <td>3</td>\n",
       "      <td>José Túlio de Cabral</td>\n",
       "      <td>Masc</td>\n",
       "      <td>35.0</td>\n",
       "      <td>pardo</td>\n",
       "      <td>110 Davis Ridges\\nMejiaville, LA 17095</td>\n",
       "      <td>Ensino Médio</td>\n",
       "      <td>Santa Catarina</td>\n",
       "      <td>5.0</td>\n",
       "      <td>Vendas</td>\n",
       "      <td>Analista Pleno</td>\n",
       "    </tr>\n",
       "    <tr>\n",
       "      <th>3</th>\n",
       "      <td>4</td>\n",
       "      <td>4</td>\n",
       "      <td>Ezequiel Edivaldo de Medeiros Sonao</td>\n",
       "      <td>Masc</td>\n",
       "      <td>24.0</td>\n",
       "      <td>pardo</td>\n",
       "      <td>48010 Wilson Glen Apt. 749\\nSmithborough, NV 0...</td>\n",
       "      <td>Ensino Superior</td>\n",
       "      <td>Tocantins</td>\n",
       "      <td>4.0</td>\n",
       "      <td>Administrativo</td>\n",
       "      <td>Gerente</td>\n",
       "    </tr>\n",
       "    <tr>\n",
       "      <th>4</th>\n",
       "      <td>5</td>\n",
       "      <td>5</td>\n",
       "      <td>Fagner Josiel dos Santos</td>\n",
       "      <td>Masc</td>\n",
       "      <td>21.0</td>\n",
       "      <td>pardo</td>\n",
       "      <td>8666 Ramos Ports Apt. 070\\nSandraport, MN 33570</td>\n",
       "      <td>Ensino Superior</td>\n",
       "      <td>Ceará</td>\n",
       "      <td>5.0</td>\n",
       "      <td>Recursos Humanos</td>\n",
       "      <td>Analista Júnior</td>\n",
       "    </tr>\n",
       "    <tr>\n",
       "      <th>5</th>\n",
       "      <td>6</td>\n",
       "      <td>6</td>\n",
       "      <td>Magali Luzimara da Silva</td>\n",
       "      <td>Fem</td>\n",
       "      <td>49.0</td>\n",
       "      <td>pardo</td>\n",
       "      <td>073 Padilla Dam\\nPort Joshualand, MA 65043</td>\n",
       "      <td>Ensino Superior</td>\n",
       "      <td>São Paulo</td>\n",
       "      <td>3.0</td>\n",
       "      <td>Contabilidade</td>\n",
       "      <td>Analista Pleno</td>\n",
       "    </tr>\n",
       "    <tr>\n",
       "      <th>6</th>\n",
       "      <td>7</td>\n",
       "      <td>7</td>\n",
       "      <td>Victor Plínio Shufrouze</td>\n",
       "      <td>Masc</td>\n",
       "      <td>29.0</td>\n",
       "      <td>pardo</td>\n",
       "      <td>112 Rose Corners\\nStanleyberg, IA 13588</td>\n",
       "      <td>Pós graduação</td>\n",
       "      <td>Ceará</td>\n",
       "      <td>9.0</td>\n",
       "      <td>Compras</td>\n",
       "      <td>Analista Sênior</td>\n",
       "    </tr>\n",
       "    <tr>\n",
       "      <th>7</th>\n",
       "      <td>8</td>\n",
       "      <td>8</td>\n",
       "      <td>Laércio Rossi</td>\n",
       "      <td>Masc</td>\n",
       "      <td>35.0</td>\n",
       "      <td>pardo</td>\n",
       "      <td>508 Sean Road Apt. 754\\nWest Thomaschester, AL...</td>\n",
       "      <td>Ensino Superior</td>\n",
       "      <td>Rondônia</td>\n",
       "      <td>8.0</td>\n",
       "      <td>Operações</td>\n",
       "      <td>Analista Júnior</td>\n",
       "    </tr>\n",
       "    <tr>\n",
       "      <th>8</th>\n",
       "      <td>9</td>\n",
       "      <td>9</td>\n",
       "      <td>Francisco Ângelo de Toledo Seixas</td>\n",
       "      <td>Masc</td>\n",
       "      <td>40.0</td>\n",
       "      <td>pardo</td>\n",
       "      <td>9762 Goodwin Plain Apt. 560\\nSchroedershire, P...</td>\n",
       "      <td>Mestrado</td>\n",
       "      <td>Amapá</td>\n",
       "      <td>1.0</td>\n",
       "      <td>Administrativo</td>\n",
       "      <td>Analista Pleno</td>\n",
       "    </tr>\n",
       "    <tr>\n",
       "      <th>9</th>\n",
       "      <td>10</td>\n",
       "      <td>10</td>\n",
       "      <td>Fabrício Rangel de Gonçalves dos Santos</td>\n",
       "      <td>Masc</td>\n",
       "      <td>33.0</td>\n",
       "      <td>pardo</td>\n",
       "      <td>4979 Dana Station Apt. 126\\nMichellefurt, HI 2...</td>\n",
       "      <td>Ensino Superior</td>\n",
       "      <td>Minas Gerais</td>\n",
       "      <td>3.0</td>\n",
       "      <td>Desenvolvimento de Produtos</td>\n",
       "      <td>Analista Pleno</td>\n",
       "    </tr>\n",
       "  </tbody>\n",
       "</table>\n",
       "</div>"
      ],
      "text/plain": [
       "   id  id.1                                     Nome Genero  Idade   Raça  \\\n",
       "0   1     1  Eleonora Arilda Penedo Gomes de Padilha    Fem   34.0  pardo   \n",
       "1   2     2           Elisângela Gabrielle de Osório    Fem   26.0  pardo   \n",
       "2   3     3                     José Túlio de Cabral   Masc   35.0  pardo   \n",
       "3   4     4      Ezequiel Edivaldo de Medeiros Sonao   Masc   24.0  pardo   \n",
       "4   5     5                 Fagner Josiel dos Santos   Masc   21.0  pardo   \n",
       "5   6     6                 Magali Luzimara da Silva    Fem   49.0  pardo   \n",
       "6   7     7                  Victor Plínio Shufrouze   Masc   29.0  pardo   \n",
       "7   8     8                            Laércio Rossi   Masc   35.0  pardo   \n",
       "8   9     9        Francisco Ângelo de Toledo Seixas   Masc   40.0  pardo   \n",
       "9  10    10  Fabrício Rangel de Gonçalves dos Santos   Masc   33.0  pardo   \n",
       "\n",
       "                                            Endereço         Formação  \\\n",
       "0            9155 Harold Oval\\nSellersside, FL 21337     Ensino Médio   \n",
       "1        941 Martin Manor\\nLake Isaiahtown, FM 43797     Ensino Médio   \n",
       "2             110 Davis Ridges\\nMejiaville, LA 17095     Ensino Médio   \n",
       "3  48010 Wilson Glen Apt. 749\\nSmithborough, NV 0...  Ensino Superior   \n",
       "4    8666 Ramos Ports Apt. 070\\nSandraport, MN 33570  Ensino Superior   \n",
       "5         073 Padilla Dam\\nPort Joshualand, MA 65043  Ensino Superior   \n",
       "6            112 Rose Corners\\nStanleyberg, IA 13588    Pós graduação   \n",
       "7  508 Sean Road Apt. 754\\nWest Thomaschester, AL...  Ensino Superior   \n",
       "8  9762 Goodwin Plain Apt. 560\\nSchroedershire, P...         Mestrado   \n",
       "9  4979 Dana Station Apt. 126\\nMichellefurt, HI 2...  Ensino Superior   \n",
       "\n",
       "           Estado  Tempo de casa                 Departamento      Senioridade  \n",
       "0  Santa Catarina           12.0                      Compras   Analista Pleno  \n",
       "1            Pará            6.0                Contabilidade  Analista Júnior  \n",
       "2  Santa Catarina            5.0                       Vendas   Analista Pleno  \n",
       "3       Tocantins            4.0               Administrativo          Gerente  \n",
       "4           Ceará            5.0             Recursos Humanos  Analista Júnior  \n",
       "5       São Paulo            3.0                Contabilidade   Analista Pleno  \n",
       "6           Ceará            9.0                      Compras  Analista Sênior  \n",
       "7        Rondônia            8.0                    Operações  Analista Júnior  \n",
       "8           Amapá            1.0               Administrativo   Analista Pleno  \n",
       "9    Minas Gerais            3.0  Desenvolvimento de Produtos   Analista Pleno  "
      ]
     },
     "execution_count": 3,
     "metadata": {},
     "output_type": "execute_result"
    }
   ],
   "source": [
    "df.head(10)"
   ]
  },
  {
   "cell_type": "code",
   "execution_count": 4,
   "metadata": {},
   "outputs": [
    {
     "data": {
      "text/plain": [
       "(10000, 12)"
      ]
     },
     "execution_count": 4,
     "metadata": {},
     "output_type": "execute_result"
    }
   ],
   "source": [
    "df.shape"
   ]
  },
  {
   "cell_type": "code",
   "execution_count": 5,
   "metadata": {},
   "outputs": [
    {
     "data": {
      "text/plain": [
       "Index(['id', 'id.1', 'Nome', 'Genero', 'Idade', 'Raça', 'Endereço', 'Formação',\n",
       "       'Estado', 'Tempo de casa', 'Departamento', 'Senioridade'],\n",
       "      dtype='object')"
      ]
     },
     "execution_count": 5,
     "metadata": {},
     "output_type": "execute_result"
    }
   ],
   "source": [
    "# Listar colunas\n",
    "df.columns"
   ]
  },
  {
   "cell_type": "code",
   "execution_count": 6,
   "metadata": {},
   "outputs": [
    {
     "data": {
      "text/html": [
       "<div>\n",
       "<style scoped>\n",
       "    .dataframe tbody tr th:only-of-type {\n",
       "        vertical-align: middle;\n",
       "    }\n",
       "\n",
       "    .dataframe tbody tr th {\n",
       "        vertical-align: top;\n",
       "    }\n",
       "\n",
       "    .dataframe thead th {\n",
       "        text-align: right;\n",
       "    }\n",
       "</style>\n",
       "<table border=\"1\" class=\"dataframe\">\n",
       "  <thead>\n",
       "    <tr style=\"text-align: right;\">\n",
       "      <th></th>\n",
       "      <th>id</th>\n",
       "      <th>id.1</th>\n",
       "      <th>Idade</th>\n",
       "      <th>Tempo de casa</th>\n",
       "    </tr>\n",
       "  </thead>\n",
       "  <tbody>\n",
       "    <tr>\n",
       "      <th>count</th>\n",
       "      <td>10000.00000</td>\n",
       "      <td>10000.00000</td>\n",
       "      <td>9944.000000</td>\n",
       "      <td>9800.000000</td>\n",
       "    </tr>\n",
       "    <tr>\n",
       "      <th>mean</th>\n",
       "      <td>5000.50000</td>\n",
       "      <td>5000.50000</td>\n",
       "      <td>30.827836</td>\n",
       "      <td>5.490510</td>\n",
       "    </tr>\n",
       "    <tr>\n",
       "      <th>std</th>\n",
       "      <td>2886.89568</td>\n",
       "      <td>2886.89568</td>\n",
       "      <td>8.738915</td>\n",
       "      <td>2.963759</td>\n",
       "    </tr>\n",
       "    <tr>\n",
       "      <th>min</th>\n",
       "      <td>1.00000</td>\n",
       "      <td>1.00000</td>\n",
       "      <td>5.000000</td>\n",
       "      <td>-6.000000</td>\n",
       "    </tr>\n",
       "    <tr>\n",
       "      <th>25%</th>\n",
       "      <td>2500.75000</td>\n",
       "      <td>2500.75000</td>\n",
       "      <td>24.000000</td>\n",
       "      <td>3.000000</td>\n",
       "    </tr>\n",
       "    <tr>\n",
       "      <th>50%</th>\n",
       "      <td>5000.50000</td>\n",
       "      <td>5000.50000</td>\n",
       "      <td>30.000000</td>\n",
       "      <td>5.000000</td>\n",
       "    </tr>\n",
       "    <tr>\n",
       "      <th>75%</th>\n",
       "      <td>7500.25000</td>\n",
       "      <td>7500.25000</td>\n",
       "      <td>37.000000</td>\n",
       "      <td>8.000000</td>\n",
       "    </tr>\n",
       "    <tr>\n",
       "      <th>max</th>\n",
       "      <td>10000.00000</td>\n",
       "      <td>10000.00000</td>\n",
       "      <td>74.000000</td>\n",
       "      <td>17.000000</td>\n",
       "    </tr>\n",
       "  </tbody>\n",
       "</table>\n",
       "</div>"
      ],
      "text/plain": [
       "                id         id.1        Idade  Tempo de casa\n",
       "count  10000.00000  10000.00000  9944.000000    9800.000000\n",
       "mean    5000.50000   5000.50000    30.827836       5.490510\n",
       "std     2886.89568   2886.89568     8.738915       2.963759\n",
       "min        1.00000      1.00000     5.000000      -6.000000\n",
       "25%     2500.75000   2500.75000    24.000000       3.000000\n",
       "50%     5000.50000   5000.50000    30.000000       5.000000\n",
       "75%     7500.25000   7500.25000    37.000000       8.000000\n",
       "max    10000.00000  10000.00000    74.000000      17.000000"
      ]
     },
     "execution_count": 6,
     "metadata": {},
     "output_type": "execute_result"
    }
   ],
   "source": [
    "numeric_columns = df.select_dtypes(include='number')\n",
    "numeric_columns.describe()"
   ]
  },
  {
   "cell_type": "code",
   "execution_count": 10,
   "metadata": {},
   "outputs": [
    {
     "data": {
      "text/html": [
       "<div>\n",
       "<style scoped>\n",
       "    .dataframe tbody tr th:only-of-type {\n",
       "        vertical-align: middle;\n",
       "    }\n",
       "\n",
       "    .dataframe tbody tr th {\n",
       "        vertical-align: top;\n",
       "    }\n",
       "\n",
       "    .dataframe thead th {\n",
       "        text-align: right;\n",
       "    }\n",
       "</style>\n",
       "<table border=\"1\" class=\"dataframe\">\n",
       "  <thead>\n",
       "    <tr style=\"text-align: right;\">\n",
       "      <th></th>\n",
       "      <th>Nome</th>\n",
       "      <th>Genero</th>\n",
       "      <th>Raça</th>\n",
       "      <th>Endereço</th>\n",
       "      <th>Formação</th>\n",
       "      <th>Estado</th>\n",
       "      <th>Departamento</th>\n",
       "      <th>Senioridade</th>\n",
       "    </tr>\n",
       "  </thead>\n",
       "  <tbody>\n",
       "    <tr>\n",
       "      <th>count</th>\n",
       "      <td>10000</td>\n",
       "      <td>10000</td>\n",
       "      <td>10000</td>\n",
       "      <td>10000</td>\n",
       "      <td>9956</td>\n",
       "      <td>10000</td>\n",
       "      <td>10000</td>\n",
       "      <td>10000</td>\n",
       "    </tr>\n",
       "    <tr>\n",
       "      <th>unique</th>\n",
       "      <td>9961</td>\n",
       "      <td>2</td>\n",
       "      <td>5</td>\n",
       "      <td>10000</td>\n",
       "      <td>5</td>\n",
       "      <td>27</td>\n",
       "      <td>9</td>\n",
       "      <td>7</td>\n",
       "    </tr>\n",
       "    <tr>\n",
       "      <th>top</th>\n",
       "      <td>Francisco da Silva</td>\n",
       "      <td>Masc</td>\n",
       "      <td>pardo</td>\n",
       "      <td>9155 Harold Oval\\nSellersside, FL 21337</td>\n",
       "      <td>Ensino Superior</td>\n",
       "      <td>São Paulo</td>\n",
       "      <td>Administrativo</td>\n",
       "      <td>Analista Júnior</td>\n",
       "    </tr>\n",
       "    <tr>\n",
       "      <th>freq</th>\n",
       "      <td>2</td>\n",
       "      <td>7500</td>\n",
       "      <td>4700</td>\n",
       "      <td>1</td>\n",
       "      <td>5972</td>\n",
       "      <td>1000</td>\n",
       "      <td>1112</td>\n",
       "      <td>3000</td>\n",
       "    </tr>\n",
       "  </tbody>\n",
       "</table>\n",
       "</div>"
      ],
      "text/plain": [
       "                      Nome Genero   Raça  \\\n",
       "count                10000  10000  10000   \n",
       "unique                9961      2      5   \n",
       "top     Francisco da Silva   Masc  pardo   \n",
       "freq                     2   7500   4700   \n",
       "\n",
       "                                       Endereço         Formação     Estado  \\\n",
       "count                                     10000             9956      10000   \n",
       "unique                                    10000                5         27   \n",
       "top     9155 Harold Oval\\nSellersside, FL 21337  Ensino Superior  São Paulo   \n",
       "freq                                          1             5972       1000   \n",
       "\n",
       "          Departamento      Senioridade  \n",
       "count            10000            10000  \n",
       "unique               9                7  \n",
       "top     Administrativo  Analista Júnior  \n",
       "freq              1112             3000  "
      ]
     },
     "execution_count": 10,
     "metadata": {},
     "output_type": "execute_result"
    }
   ],
   "source": [
    "non_numeric_columns = df.select_dtypes(exclude='number')\n",
    "non_numeric_columns.describe()"
   ]
  },
  {
   "attachments": {},
   "cell_type": "markdown",
   "metadata": {},
   "source": [
    "O nome Francisco da Silva parece está repetido."
   ]
  },
  {
   "cell_type": "code",
   "execution_count": 8,
   "metadata": {},
   "outputs": [
    {
     "name": "stdout",
     "output_type": "stream",
     "text": [
      "<class 'pandas.core.frame.DataFrame'>\n",
      "RangeIndex: 10000 entries, 0 to 9999\n",
      "Data columns (total 12 columns):\n",
      " #   Column         Non-Null Count  Dtype  \n",
      "---  ------         --------------  -----  \n",
      " 0   id             10000 non-null  int64  \n",
      " 1   id.1           10000 non-null  int64  \n",
      " 2   Nome           10000 non-null  object \n",
      " 3   Genero         10000 non-null  object \n",
      " 4   Idade          9944 non-null   float64\n",
      " 5   Raça           10000 non-null  object \n",
      " 6   Endereço       10000 non-null  object \n",
      " 7   Formação       9956 non-null   object \n",
      " 8   Estado         10000 non-null  object \n",
      " 9   Tempo de casa  9800 non-null   float64\n",
      " 10  Departamento   10000 non-null  object \n",
      " 11  Senioridade    10000 non-null  object \n",
      "dtypes: float64(2), int64(2), object(8)\n",
      "memory usage: 937.6+ KB\n"
     ]
    }
   ],
   "source": [
    "df.info()"
   ]
  },
  {
   "attachments": {},
   "cell_type": "markdown",
   "metadata": {},
   "source": [
    "Não é necessário alterar os tipos de dados"
   ]
  },
  {
   "attachments": {},
   "cell_type": "markdown",
   "metadata": {},
   "source": [
    "Limpando os dados"
   ]
  },
  {
   "cell_type": "code",
   "execution_count": 9,
   "metadata": {},
   "outputs": [],
   "source": [
    "#remover duplicatas\n",
    "df = df.drop_duplicates()"
   ]
  },
  {
   "cell_type": "code",
   "execution_count": 11,
   "metadata": {},
   "outputs": [],
   "source": [
    "#Remover colunas desnecessárias\n",
    "df = df.drop(columns=['id', 'id.1', 'Nome', 'Endereço'])"
   ]
  },
  {
   "attachments": {},
   "cell_type": "markdown",
   "metadata": {},
   "source": [
    "Essas colunas não são relevantes para o estudo."
   ]
  },
  {
   "attachments": {},
   "cell_type": "markdown",
   "metadata": {},
   "source": [
    "Lidando com dados faltantes"
   ]
  },
  {
   "cell_type": "code",
   "execution_count": 14,
   "metadata": {},
   "outputs": [
    {
     "data": {
      "text/plain": [
       "Genero           0\n",
       "Idade            0\n",
       "Raça             0\n",
       "Formação         0\n",
       "Estado           0\n",
       "Tempo de casa    0\n",
       "Departamento     0\n",
       "Senioridade      0\n",
       "dtype: int64"
      ]
     },
     "execution_count": 14,
     "metadata": {},
     "output_type": "execute_result"
    }
   ],
   "source": [
    "#Visulalisar resultados\n",
    "df.isna().sum()"
   ]
  },
  {
   "attachments": {},
   "cell_type": "markdown",
   "metadata": {},
   "source": [
    "Considerando que esses dados faltantes, como de atributos diferentes temos: 56+44+200 = 300.\n",
    "Como temos um total de 10000 observações é razoalvel eliminar esses dados. Representa eliminasr 300/10000, ou seja, 3% dos dados. "
   ]
  },
  {
   "cell_type": "code",
   "execution_count": 13,
   "metadata": {},
   "outputs": [],
   "source": [
    "#Deletar dados faltantes\n",
    "df = df.dropna()"
   ]
  },
  {
   "cell_type": "code",
   "execution_count": 15,
   "metadata": {},
   "outputs": [],
   "source": [
    "df.iloc[0, df.columns.get_loc('Tempo de casa')] = -6"
   ]
  },
  {
   "attachments": {},
   "cell_type": "markdown",
   "metadata": {},
   "source": [
    "Entender essa linha."
   ]
  },
  {
   "attachments": {},
   "cell_type": "markdown",
   "metadata": {},
   "source": [
    "Outliers"
   ]
  },
  {
   "cell_type": "code",
   "execution_count": 16,
   "metadata": {},
   "outputs": [
    {
     "data": {
      "image/png": "[encoded data removed]",
      "text/plain": [
       "<Figure size 1000x600 with 1 Axes>"
      ]
     },
     "metadata": {},
     "output_type": "display_data"
    },
    {
     "data": {
      "image/png": "[encoded data removed]",
      "text/plain": [
       "<Figure size 640x480 with 1 Axes>"
      ]
     },
     "metadata": {},
     "output_type": "display_data"
    }
   ],
   "source": [
    "#Boxplot\n",
    "\n",
    "# Assuming df is your DataFrame containing numerical columns\n",
    "numerical_columns = df.select_dtypes(include='number').columns\n",
    "\n",
    "plt.figure(figsize=(10, 6))  # Adjust the figure size if needed\n",
    "for column in numerical_columns:\n",
    "    df.boxplot(column=column)\n",
    "    plt.title(f'Boxplot for {column}')\n",
    "    plt.show()"
   ]
  },
  {
   "attachments": {},
   "cell_type": "markdown",
   "metadata": {},
   "source": [
    "Não faz sentido funcionários com idade menor que 18 anos.\n",
    "Não faz sentido tempo de casa negativo.\n",
    "\n",
    "Avaliar a possibilidade de eliminar esses casos."
   ]
  },
  {
   "cell_type": "code",
   "execution_count": 17,
   "metadata": {},
   "outputs": [
    {
     "data": {
      "text/html": [
       "<div>\n",
       "<style scoped>\n",
       "    .dataframe tbody tr th:only-of-type {\n",
       "        vertical-align: middle;\n",
       "    }\n",
       "\n",
       "    .dataframe tbody tr th {\n",
       "        vertical-align: top;\n",
       "    }\n",
       "\n",
       "    .dataframe thead th {\n",
       "        text-align: right;\n",
       "    }\n",
       "</style>\n",
       "<table border=\"1\" class=\"dataframe\">\n",
       "  <thead>\n",
       "    <tr style=\"text-align: right;\">\n",
       "      <th></th>\n",
       "      <th>Genero</th>\n",
       "      <th>Idade</th>\n",
       "      <th>Raça</th>\n",
       "      <th>Formação</th>\n",
       "      <th>Estado</th>\n",
       "      <th>Tempo de casa</th>\n",
       "      <th>Departamento</th>\n",
       "      <th>Senioridade</th>\n",
       "    </tr>\n",
       "  </thead>\n",
       "  <tbody>\n",
       "    <tr>\n",
       "      <th>2581</th>\n",
       "      <td>Masc</td>\n",
       "      <td>12.0</td>\n",
       "      <td>preto</td>\n",
       "      <td>Ensino Superior</td>\n",
       "      <td>Ceará</td>\n",
       "      <td>2.0</td>\n",
       "      <td>Marketing</td>\n",
       "      <td>Analista Pleno</td>\n",
       "    </tr>\n",
       "    <tr>\n",
       "      <th>3886</th>\n",
       "      <td>Fem</td>\n",
       "      <td>6.0</td>\n",
       "      <td>preto</td>\n",
       "      <td>Ensino Superior</td>\n",
       "      <td>Alagoas</td>\n",
       "      <td>9.0</td>\n",
       "      <td>Recursos Humanos</td>\n",
       "      <td>Analista Júnior</td>\n",
       "    </tr>\n",
       "    <tr>\n",
       "      <th>4777</th>\n",
       "      <td>Masc</td>\n",
       "      <td>16.0</td>\n",
       "      <td>indígena</td>\n",
       "      <td>Pós graduação</td>\n",
       "      <td>Ceará</td>\n",
       "      <td>1.0</td>\n",
       "      <td>TI</td>\n",
       "      <td>Gerente</td>\n",
       "    </tr>\n",
       "    <tr>\n",
       "      <th>4928</th>\n",
       "      <td>Fem</td>\n",
       "      <td>13.0</td>\n",
       "      <td>preto</td>\n",
       "      <td>Ensino Superior</td>\n",
       "      <td>Amapá</td>\n",
       "      <td>7.0</td>\n",
       "      <td>Vendas</td>\n",
       "      <td>Analista Pleno</td>\n",
       "    </tr>\n",
       "    <tr>\n",
       "      <th>5001</th>\n",
       "      <td>Masc</td>\n",
       "      <td>17.0</td>\n",
       "      <td>preto</td>\n",
       "      <td>Ensino Superior</td>\n",
       "      <td>Amapá</td>\n",
       "      <td>2.0</td>\n",
       "      <td>Contabilidade</td>\n",
       "      <td>Analista Júnior</td>\n",
       "    </tr>\n",
       "    <tr>\n",
       "      <th>5845</th>\n",
       "      <td>Masc</td>\n",
       "      <td>16.0</td>\n",
       "      <td>preto</td>\n",
       "      <td>Ensino Superior</td>\n",
       "      <td>Paraná</td>\n",
       "      <td>4.0</td>\n",
       "      <td>Compras</td>\n",
       "      <td>Analista Pleno</td>\n",
       "    </tr>\n",
       "    <tr>\n",
       "      <th>5948</th>\n",
       "      <td>Masc</td>\n",
       "      <td>17.0</td>\n",
       "      <td>preto</td>\n",
       "      <td>Ensino Superior</td>\n",
       "      <td>Mato Grosso</td>\n",
       "      <td>10.0</td>\n",
       "      <td>TI</td>\n",
       "      <td>Analista Pleno</td>\n",
       "    </tr>\n",
       "    <tr>\n",
       "      <th>6599</th>\n",
       "      <td>Fem</td>\n",
       "      <td>15.0</td>\n",
       "      <td>indígena</td>\n",
       "      <td>Ensino Superior</td>\n",
       "      <td>Ceará</td>\n",
       "      <td>5.0</td>\n",
       "      <td>Recursos Humanos</td>\n",
       "      <td>Estagiário</td>\n",
       "    </tr>\n",
       "    <tr>\n",
       "      <th>6684</th>\n",
       "      <td>Masc</td>\n",
       "      <td>15.0</td>\n",
       "      <td>preto</td>\n",
       "      <td>Ensino Superior</td>\n",
       "      <td>Mato Grosso do Sul</td>\n",
       "      <td>9.0</td>\n",
       "      <td>Recursos Humanos</td>\n",
       "      <td>Analista Júnior</td>\n",
       "    </tr>\n",
       "    <tr>\n",
       "      <th>7173</th>\n",
       "      <td>Masc</td>\n",
       "      <td>10.0</td>\n",
       "      <td>preto</td>\n",
       "      <td>Pós graduação</td>\n",
       "      <td>Rio de Janeiro</td>\n",
       "      <td>5.0</td>\n",
       "      <td>Desenvolvimento de Produtos</td>\n",
       "      <td>Analista Pleno</td>\n",
       "    </tr>\n",
       "    <tr>\n",
       "      <th>7591</th>\n",
       "      <td>Masc</td>\n",
       "      <td>12.0</td>\n",
       "      <td>preto</td>\n",
       "      <td>Doutorado</td>\n",
       "      <td>Bahia</td>\n",
       "      <td>8.0</td>\n",
       "      <td>Contabilidade</td>\n",
       "      <td>Diretor</td>\n",
       "    </tr>\n",
       "    <tr>\n",
       "      <th>9917</th>\n",
       "      <td>Masc</td>\n",
       "      <td>12.0</td>\n",
       "      <td>indígena</td>\n",
       "      <td>Ensino Superior</td>\n",
       "      <td>Rio Grande do Norte</td>\n",
       "      <td>9.0</td>\n",
       "      <td>TI</td>\n",
       "      <td>Analista Júnior</td>\n",
       "    </tr>\n",
       "  </tbody>\n",
       "</table>\n",
       "</div>"
      ],
      "text/plain": [
       "     Genero  Idade      Raça         Formação               Estado  \\\n",
       "2581   Masc   12.0     preto  Ensino Superior                Ceará   \n",
       "3886    Fem    6.0     preto  Ensino Superior              Alagoas   \n",
       "4777   Masc   16.0  indígena    Pós graduação                Ceará   \n",
       "4928    Fem   13.0     preto  Ensino Superior                Amapá   \n",
       "5001   Masc   17.0     preto  Ensino Superior                Amapá   \n",
       "5845   Masc   16.0     preto  Ensino Superior               Paraná   \n",
       "5948   Masc   17.0     preto  Ensino Superior          Mato Grosso   \n",
       "6599    Fem   15.0  indígena  Ensino Superior                Ceará   \n",
       "6684   Masc   15.0     preto  Ensino Superior   Mato Grosso do Sul   \n",
       "7173   Masc   10.0     preto    Pós graduação       Rio de Janeiro   \n",
       "7591   Masc   12.0     preto        Doutorado                Bahia   \n",
       "9917   Masc   12.0  indígena  Ensino Superior  Rio Grande do Norte   \n",
       "\n",
       "      Tempo de casa                 Departamento      Senioridade  \n",
       "2581            2.0                    Marketing   Analista Pleno  \n",
       "3886            9.0             Recursos Humanos  Analista Júnior  \n",
       "4777            1.0                           TI          Gerente  \n",
       "4928            7.0                       Vendas   Analista Pleno  \n",
       "5001            2.0                Contabilidade  Analista Júnior  \n",
       "5845            4.0                      Compras   Analista Pleno  \n",
       "5948           10.0                           TI   Analista Pleno  \n",
       "6599            5.0             Recursos Humanos       Estagiário  \n",
       "6684            9.0             Recursos Humanos  Analista Júnior  \n",
       "7173            5.0  Desenvolvimento de Produtos   Analista Pleno  \n",
       "7591            8.0                Contabilidade          Diretor  \n",
       "9917            9.0                           TI  Analista Júnior  "
      ]
     },
     "execution_count": 17,
     "metadata": {},
     "output_type": "execute_result"
    }
   ],
   "source": [
    "df[df['Idade'] < 18]"
   ]
  },
  {
   "cell_type": "code",
   "execution_count": 19,
   "metadata": {},
   "outputs": [
    {
     "data": {
      "text/plain": [
       "(12, 8)"
      ]
     },
     "execution_count": 19,
     "metadata": {},
     "output_type": "execute_result"
    }
   ],
   "source": [
    "df[df['Idade'] < 18].shape\n"
   ]
  },
  {
   "cell_type": "code",
   "execution_count": 23,
   "metadata": {},
   "outputs": [
    {
     "data": {
      "text/plain": [
       "(9689, 8)"
      ]
     },
     "execution_count": 23,
     "metadata": {},
     "output_type": "execute_result"
    }
   ],
   "source": [
    "df.shape"
   ]
  },
  {
   "attachments": {},
   "cell_type": "markdown",
   "metadata": {},
   "source": [
    "Analisando a coluna Idade junto a coluna Formação, não faz sentido esses dados com Idade menor que 18 anos.\n",
    "Como repesentam 12/9701 = 0.001, ou seja, 0,1% é razoázvel eliminar essas linhas."
   ]
  },
  {
   "cell_type": "code",
   "execution_count": 21,
   "metadata": {},
   "outputs": [],
   "source": [
    "df.drop(df[df['Idade'] < 18].index, inplace=True)"
   ]
  },
  {
   "cell_type": "code",
   "execution_count": 22,
   "metadata": {},
   "outputs": [
    {
     "data": {
      "text/html": [
       "<div>\n",
       "<style scoped>\n",
       "    .dataframe tbody tr th:only-of-type {\n",
       "        vertical-align: middle;\n",
       "    }\n",
       "\n",
       "    .dataframe tbody tr th {\n",
       "        vertical-align: top;\n",
       "    }\n",
       "\n",
       "    .dataframe thead th {\n",
       "        text-align: right;\n",
       "    }\n",
       "</style>\n",
       "<table border=\"1\" class=\"dataframe\">\n",
       "  <thead>\n",
       "    <tr style=\"text-align: right;\">\n",
       "      <th></th>\n",
       "      <th>Genero</th>\n",
       "      <th>Idade</th>\n",
       "      <th>Raça</th>\n",
       "      <th>Formação</th>\n",
       "      <th>Estado</th>\n",
       "      <th>Tempo de casa</th>\n",
       "      <th>Departamento</th>\n",
       "      <th>Senioridade</th>\n",
       "    </tr>\n",
       "  </thead>\n",
       "  <tbody>\n",
       "    <tr>\n",
       "      <th>0</th>\n",
       "      <td>Fem</td>\n",
       "      <td>34.0</td>\n",
       "      <td>pardo</td>\n",
       "      <td>Ensino Médio</td>\n",
       "      <td>Santa Catarina</td>\n",
       "      <td>-6.0</td>\n",
       "      <td>Compras</td>\n",
       "      <td>Analista Pleno</td>\n",
       "    </tr>\n",
       "    <tr>\n",
       "      <th>23</th>\n",
       "      <td>Masc</td>\n",
       "      <td>31.0</td>\n",
       "      <td>branco</td>\n",
       "      <td>Ensino Médio</td>\n",
       "      <td>Amazonas</td>\n",
       "      <td>0.0</td>\n",
       "      <td>Operações</td>\n",
       "      <td>Estagiário</td>\n",
       "    </tr>\n",
       "    <tr>\n",
       "      <th>29</th>\n",
       "      <td>Fem</td>\n",
       "      <td>29.0</td>\n",
       "      <td>branco</td>\n",
       "      <td>Ensino Superior</td>\n",
       "      <td>Paraná</td>\n",
       "      <td>0.0</td>\n",
       "      <td>Administrativo</td>\n",
       "      <td>Gerente</td>\n",
       "    </tr>\n",
       "    <tr>\n",
       "      <th>38</th>\n",
       "      <td>Fem</td>\n",
       "      <td>27.0</td>\n",
       "      <td>preto</td>\n",
       "      <td>Ensino Médio</td>\n",
       "      <td>Mato Grosso</td>\n",
       "      <td>0.0</td>\n",
       "      <td>Administrativo</td>\n",
       "      <td>Analista Júnior</td>\n",
       "    </tr>\n",
       "    <tr>\n",
       "      <th>41</th>\n",
       "      <td>Masc</td>\n",
       "      <td>34.0</td>\n",
       "      <td>branco</td>\n",
       "      <td>Ensino Superior</td>\n",
       "      <td>Pernambuco</td>\n",
       "      <td>0.0</td>\n",
       "      <td>TI</td>\n",
       "      <td>Analista Sênior</td>\n",
       "    </tr>\n",
       "    <tr>\n",
       "      <th>...</th>\n",
       "      <td>...</td>\n",
       "      <td>...</td>\n",
       "      <td>...</td>\n",
       "      <td>...</td>\n",
       "      <td>...</td>\n",
       "      <td>...</td>\n",
       "      <td>...</td>\n",
       "      <td>...</td>\n",
       "    </tr>\n",
       "    <tr>\n",
       "      <th>9838</th>\n",
       "      <td>Fem</td>\n",
       "      <td>34.0</td>\n",
       "      <td>preto</td>\n",
       "      <td>Ensino Superior</td>\n",
       "      <td>São Paulo</td>\n",
       "      <td>-2.0</td>\n",
       "      <td>Desenvolvimento de Produtos</td>\n",
       "      <td>Analista Pleno</td>\n",
       "    </tr>\n",
       "    <tr>\n",
       "      <th>9871</th>\n",
       "      <td>Masc</td>\n",
       "      <td>30.0</td>\n",
       "      <td>pardo</td>\n",
       "      <td>Ensino Superior</td>\n",
       "      <td>Acre</td>\n",
       "      <td>0.0</td>\n",
       "      <td>TI</td>\n",
       "      <td>Analista Pleno</td>\n",
       "    </tr>\n",
       "    <tr>\n",
       "      <th>9919</th>\n",
       "      <td>Masc</td>\n",
       "      <td>29.0</td>\n",
       "      <td>branco</td>\n",
       "      <td>Ensino Superior</td>\n",
       "      <td>Santa Catarina</td>\n",
       "      <td>0.0</td>\n",
       "      <td>Vendas</td>\n",
       "      <td>Analista Sênior</td>\n",
       "    </tr>\n",
       "    <tr>\n",
       "      <th>9946</th>\n",
       "      <td>Fem</td>\n",
       "      <td>41.0</td>\n",
       "      <td>pardo</td>\n",
       "      <td>Ensino Superior</td>\n",
       "      <td>Amazonas</td>\n",
       "      <td>0.0</td>\n",
       "      <td>Contabilidade</td>\n",
       "      <td>Analista Júnior</td>\n",
       "    </tr>\n",
       "    <tr>\n",
       "      <th>9950</th>\n",
       "      <td>Masc</td>\n",
       "      <td>36.0</td>\n",
       "      <td>pardo</td>\n",
       "      <td>Ensino Superior</td>\n",
       "      <td>Distrito Federal</td>\n",
       "      <td>0.0</td>\n",
       "      <td>TI</td>\n",
       "      <td>Gerente</td>\n",
       "    </tr>\n",
       "  </tbody>\n",
       "</table>\n",
       "<p>499 rows × 8 columns</p>\n",
       "</div>"
      ],
      "text/plain": [
       "     Genero  Idade    Raça         Formação            Estado  Tempo de casa  \\\n",
       "0       Fem   34.0   pardo     Ensino Médio    Santa Catarina           -6.0   \n",
       "23     Masc   31.0  branco     Ensino Médio          Amazonas            0.0   \n",
       "29      Fem   29.0  branco  Ensino Superior            Paraná            0.0   \n",
       "38      Fem   27.0   preto     Ensino Médio       Mato Grosso            0.0   \n",
       "41     Masc   34.0  branco  Ensino Superior        Pernambuco            0.0   \n",
       "...     ...    ...     ...              ...               ...            ...   \n",
       "9838    Fem   34.0   preto  Ensino Superior         São Paulo           -2.0   \n",
       "9871   Masc   30.0   pardo  Ensino Superior              Acre            0.0   \n",
       "9919   Masc   29.0  branco  Ensino Superior    Santa Catarina            0.0   \n",
       "9946    Fem   41.0   pardo  Ensino Superior          Amazonas            0.0   \n",
       "9950   Masc   36.0   pardo  Ensino Superior  Distrito Federal            0.0   \n",
       "\n",
       "                     Departamento      Senioridade  \n",
       "0                         Compras   Analista Pleno  \n",
       "23                      Operações       Estagiário  \n",
       "29                 Administrativo          Gerente  \n",
       "38                 Administrativo  Analista Júnior  \n",
       "41                             TI  Analista Sênior  \n",
       "...                           ...              ...  \n",
       "9838  Desenvolvimento de Produtos   Analista Pleno  \n",
       "9871                           TI   Analista Pleno  \n",
       "9919                       Vendas  Analista Sênior  \n",
       "9946                Contabilidade  Analista Júnior  \n",
       "9950                           TI          Gerente  \n",
       "\n",
       "[499 rows x 8 columns]"
      ]
     },
     "execution_count": 22,
     "metadata": {},
     "output_type": "execute_result"
    }
   ],
   "source": [
    "df[df['Tempo de casa'] <= 0]"
   ]
  },
  {
   "attachments": {},
   "cell_type": "markdown",
   "metadata": {},
   "source": [
    "Analisando a coluna 'Tempo de casa' encontramos 498 observações com valor negativo. O que não parece fazer sentido.\n",
    "Como repesentam 498/9689 = 0.05, ou seja, 5% é razoázvel eliminar essas linhas."
   ]
  },
  {
   "cell_type": "code",
   "execution_count": 24,
   "metadata": {},
   "outputs": [
    {
     "data": {
      "text/plain": [
       "Genero\n",
       "Fem     2436\n",
       "Masc    7253\n",
       "dtype: int64"
      ]
     },
     "execution_count": 24,
     "metadata": {},
     "output_type": "execute_result"
    }
   ],
   "source": [
    "df.groupby('Genero').size()"
   ]
  },
  {
   "cell_type": "code",
   "execution_count": 25,
   "metadata": {},
   "outputs": [
    {
     "data": {
      "text/plain": [
       "Raça\n",
       "amarelo       48\n",
       "branco      4180\n",
       "indígena      46\n",
       "pardo       4543\n",
       "preto        872\n",
       "dtype: int64"
      ]
     },
     "execution_count": 25,
     "metadata": {},
     "output_type": "execute_result"
    }
   ],
   "source": [
    "df.groupby('Raça').size()"
   ]
  },
  {
   "cell_type": "code",
   "execution_count": 26,
   "metadata": {},
   "outputs": [
    {
     "data": {
      "text/plain": [
       "Formação\n",
       "Doutorado           770\n",
       "Ensino Médio        483\n",
       "Ensino Superior    5826\n",
       "Mestrado           1157\n",
       "Pós graduação      1453\n",
       "dtype: int64"
      ]
     },
     "execution_count": 26,
     "metadata": {},
     "output_type": "execute_result"
    }
   ],
   "source": [
    "df.groupby('Formação').size()"
   ]
  },
  {
   "cell_type": "code",
   "execution_count": 27,
   "metadata": {},
   "outputs": [
    {
     "data": {
      "text/plain": [
       "Estado\n",
       "Acre                   256\n",
       "Alagoas                258\n",
       "Amapá                  258\n",
       "Amazonas               259\n",
       "Bahia                  259\n",
       "Ceará                  256\n",
       "Distrito Federal       255\n",
       "Espírito Santo          98\n",
       "Goiás                  251\n",
       "Maranhão               253\n",
       "Mato Grosso            255\n",
       "Mato Grosso do Sul     256\n",
       "Minas Gerais           774\n",
       "Paraná                 681\n",
       "Paraíba                250\n",
       "Pará                   256\n",
       "Pernambuco             255\n",
       "Piauí                  256\n",
       "Rio Grande do Norte    257\n",
       "Rio Grande do Sul      589\n",
       "Rio de Janeiro         874\n",
       "Rondônia               258\n",
       "Roraima                258\n",
       "Santa Catarina         585\n",
       "Sergipe                256\n",
       "São Paulo              971\n",
       "Tocantins              255\n",
       "dtype: int64"
      ]
     },
     "execution_count": 27,
     "metadata": {},
     "output_type": "execute_result"
    }
   ],
   "source": [
    "df.groupby('Estado').size()"
   ]
  },
  {
   "cell_type": "code",
   "execution_count": 28,
   "metadata": {},
   "outputs": [
    {
     "data": {
      "text/plain": [
       "Departamento\n",
       "Administrativo                 1082\n",
       "Compras                        1078\n",
       "Contabilidade                  1067\n",
       "Desenvolvimento de Produtos    1064\n",
       "Marketing                      1076\n",
       "Operações                      1091\n",
       "Recursos Humanos               1077\n",
       "TI                             1077\n",
       "Vendas                         1077\n",
       "dtype: int64"
      ]
     },
     "execution_count": 28,
     "metadata": {},
     "output_type": "execute_result"
    }
   ],
   "source": [
    "df.groupby('Departamento').size()"
   ]
  },
  {
   "cell_type": "code",
   "execution_count": 31,
   "metadata": {},
   "outputs": [
    {
     "data": {
      "text/plain": [
       "Senioridade\n",
       "Analista Júnior    2913\n",
       "Analista Pleno     2420\n",
       "Analista Sênior    1946\n",
       "Diretor              86\n",
       "Estagiário          866\n",
       "Gerente            1458\n",
       "dtype: int64"
      ]
     },
     "execution_count": 31,
     "metadata": {},
     "output_type": "execute_result"
    }
   ],
   "source": [
    "df.groupby('Senioridade').size()"
   ]
  },
  {
   "attachments": {},
   "cell_type": "markdown",
   "metadata": {},
   "source": [
    "Aparemente existem dados de Gerente escrito com 'g', assim a sugestão é substituir 'gerente' por 'Gerente'"
   ]
  },
  {
   "cell_type": "code",
   "execution_count": 30,
   "metadata": {},
   "outputs": [],
   "source": [
    "df['Senioridade'].replace('gerente', 'Gerente', inplace=True)"
   ]
  }
 ],
 "metadata": {
  "kernelspec": {
   "display_name": "Python 3 (ipykernel)",
   "language": "python",
   "name": "python3"
  },
  "language_info": {
   "codemirror_mode": {
    "name": "ipython",
    "version": 3
   },
   "file_extension": ".py",
   "mimetype": "text/x-python",
   "name": "python",
   "nbconvert_exporter": "python",
   "pygments_lexer": "ipython3",
   "version": "3.11.3"
  }
 },
 "nbformat": 4,
 "nbformat_minor": 4
}
